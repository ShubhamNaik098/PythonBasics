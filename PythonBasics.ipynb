{
  "nbformat": 4,
  "nbformat_minor": 0,
  "metadata": {
    "colab": {
      "provenance": []
    },
    "kernelspec": {
      "name": "python3",
      "display_name": "Python 3"
    },
    "language_info": {
      "name": "python"
    }
  },
  "cells": [
    {
      "cell_type": "markdown",
      "source": [
        "**Theoratical Questions**"
      ],
      "metadata": {
        "id": "aqmn1EjpkAsM"
      }
    },
    {
      "cell_type": "markdown",
      "source": [
        "Q1.What is Python, and why is it popular?\n",
        "    \n",
        "Ans.Python is a high-level , interpreted and object oriented programming language.It is designed to be highly readable.It was created by Guido van Rossum and first release in 1991.It uses English keywords frequently,whereas other language use punctuation and it has fewer syntactical construction than other languages.Python is widely used in various field like web development,data science,artificial intelligence etc.\n",
        "\n",
        "Here are some reason why python so popular:\n",
        "\n",
        "  1.Easy to learn- It has few keywords ,simple structure,clearly defined syntax.\n",
        "\n",
        "  2.Easy to read- It emphasize readability,which help developer to write clear and maintainable.\n",
        "\n",
        "  3.A Broad library- A python contain a broad library in which it has 4 popular library- Numpy, Pandas, Matplotlib and Seaborn.\n",
        "\n",
        "  4.Portable - It can run on various hardware platform like mac, UNIX, windows and has same interface on all.\n",
        "\n",
        "  5.Open source - It is open source and free to use,making it accessible to everyone.\n",
        "\n",
        "  6.Scalability - while python is often seen as a language for small project,it can also scale up for large, complex application etc."
      ],
      "metadata": {
        "id": "9mU7u-UBB8ET"
      }
    },
    {
      "cell_type": "markdown",
      "source": [
        "Q2.What is an interpreter in Python?\n",
        "\n",
        "Ans.It converts high level code to machine level code line by line."
      ],
      "metadata": {
        "id": "zCvi218cIyCl"
      }
    },
    {
      "cell_type": "markdown",
      "source": [
        "Q3. What are pre-defined keywords in Python?\n",
        "\n",
        "Ans.The python has special reserved words which convey special meaning to the compiler/interpreter is known as pre-defined keywords.Each words has specific operation and cannot used as variable."
      ],
      "metadata": {
        "id": "p9wvJHkAJEo6"
      }
    },
    {
      "cell_type": "markdown",
      "source": [
        "Q4.Can keywords be used as variable names?\n",
        "\n",
        "Ans.No,the keyword cannot be used as a variable."
      ],
      "metadata": {
        "id": "r06nQI0lJ-_M"
      }
    },
    {
      "cell_type": "markdown",
      "source": [
        "Q5. What is mutability in Python?\n",
        "\n",
        "Ans.Objects/container whose state or value can be changed after they are created are called as mutability."
      ],
      "metadata": {
        "id": "LgRcYaZEKKn3"
      }
    },
    {
      "cell_type": "markdown",
      "source": [
        "Q6.Why are lists mutable, but tuples are immutable?\n",
        "\n",
        "Ans. a.List are mutable(can be modified) beacause the purpose of creating the list is to store collection of item that are likely to change during the program execution.List supports operation like append(),remove(),pop().\n",
        "\n",
        "b.Tuples are immutable(can't be modified) because the purpose of craeting the tuple is to store fixed collection of items that should not be changed after created.It does not supports operations like append(),remove(),pop()."
      ],
      "metadata": {
        "id": "UFDrxozdKjuw"
      }
    },
    {
      "cell_type": "markdown",
      "source": [
        "Q7.What is the difference between “==” and “is” operators in Python?\n",
        "\n",
        "Ans.\"==\" is related to comparison operator which compares the value of two objects if they are equal.\n",
        "\n",
        "where \"is\" is related to identity operator which checks if two objects belongs to same memory location or not."
      ],
      "metadata": {
        "id": "eKy_laZeNHTh"
      }
    },
    {
      "cell_type": "markdown",
      "source": [
        "Q8.What are logical operators in Python?\n",
        "\n",
        "Ans.Logical operators in python are used to perform logical operations on Boolean expressions.e.g. AND,OR and NOT."
      ],
      "metadata": {
        "id": "mESBRHqoOVEF"
      }
    },
    {
      "cell_type": "markdown",
      "source": [
        "Q9. What is type casting in Python?\n",
        "\n",
        "Ans.It is the concept of converting one data type to another data type.\n",
        "\n",
        "It has 2 types:\n",
        "\n",
        "1.Implicit type casting.\n",
        "\n",
        "2.Explicit type casting."
      ],
      "metadata": {
        "id": "zn5NN7V3PQZL"
      }
    },
    {
      "cell_type": "markdown",
      "source": [
        "Q10.What is the difference between implicit and explicit type casting?\n",
        "\n",
        "Ans.Implicit type casting - In this python automatically converts one data type to another data type without any explicit instruction of programmer.\n",
        "\n",
        "a = 10\n",
        "\n",
        "b = 2.5\n",
        "\n",
        "c = a + b   #implicit conversion\n",
        "\n",
        "print(c)\n",
        "\n",
        "print(type(c))\n",
        "\n",
        "Explicit type casting - The programmer manually converts a value from one type to another by using Python's built-in functions like-\n",
        "\n",
        "int(): Converts the value into integer\n",
        "\n",
        "float(): Converts the value into float.\n",
        "\n",
        "str(): Converts a value into string."
      ],
      "metadata": {
        "id": "d1azlIXuQSPN"
      }
    },
    {
      "cell_type": "markdown",
      "source": [
        "Q11.What is the purpose of conditional statements in Python?\n",
        "\n",
        "Ans.It is used in python to control the flow of program by allowing it to make decision based on specific condition. Conditional statements enable a program to execute different blocks of code depending on whether a condition is True or False."
      ],
      "metadata": {
        "id": "zLkQGNlwR-cb"
      }
    },
    {
      "cell_type": "markdown",
      "source": [
        "Q12.How does the elif statement work?\n",
        "\n",
        "Ans.In the conditional statement, the elif work as following\n",
        "\n",
        "1.The program evaluates condition in the order they are written\n",
        "\n",
        "2.When a conditions evaluates to true,then the corresponding block of code is executed and the rest is skip.\n",
        "\n",
        "3.If none of the if or elif condition is true,then the else block of code is executed(if present)\n",
        "\n",
        "if condition1:\n",
        "    # if it is true it executed and if not, it will check condition2\n",
        "elif condition2:\n",
        "    # if it is true it executed and if not, it will check condition3\n",
        "elif condition3:\n",
        "    # if it is true it executed and if not, it will check else\n",
        "else:\n",
        "    # if all the above condition is false then this block of code is executed."
      ],
      "metadata": {
        "id": "782cHTTfT_jz"
      }
    },
    {
      "cell_type": "markdown",
      "source": [
        "Q13.What is the difference between for and while loops?\n",
        "\n",
        "Ans.The \"For loop\" is used when the number of iteration is known beforehand.\n",
        "It iterates over a finite iterable.\n",
        "\n",
        "The \"While loop' is used when the number of iteration is not known in advance and depends on the condition being true.It iterates if the condition never become false."
      ],
      "metadata": {
        "id": "kP44bB4aXM6L"
      }
    },
    {
      "cell_type": "markdown",
      "source": [
        "Q14. Describe a scenario where a while loop is more suitable than a for loop.\n",
        "\n",
        "Ans.In the login system where the user has multiple attempts to enter the correct password in this case the loop should run until the user either enter the correct password or exhaust the allowed number of attempts.\n",
        "\n",
        "correct_password = \"secure123\"\n",
        "\n",
        "attempts = 0\n",
        "\n",
        "max_attempts = 3\n",
        "\n",
        "while attempts < max_attempts:\n",
        "\n",
        "    user_input = input(\"Enter the password: \")\n",
        "    attempts += 1\n",
        "    \n",
        "    if user_input == correct_password:\n",
        "        print(\"Access granted!\")\n",
        "        break\n",
        "    else:\n",
        "        print(f\"Incorrect password. You have {max_attempts - attempts} attempts left.\")\n",
        "else:\n",
        "    print(\"Access denied. Too many incorrect attempts.\")"
      ],
      "metadata": {
        "id": "TvIgsxqqY3QB"
      }
    },
    {
      "cell_type": "markdown",
      "source": [
        "**Practical Questions**"
      ],
      "metadata": {
        "id": "ZFLgrSlBkRSG"
      }
    },
    {
      "cell_type": "markdown",
      "source": [
        "Q1.Write a Python program to print \"Hello, World!_"
      ],
      "metadata": {
        "id": "wVTU7S4akqHq"
      }
    },
    {
      "cell_type": "code",
      "source": [
        "print(\"hello World\")"
      ],
      "metadata": {
        "colab": {
          "base_uri": "https://localhost:8080/"
        },
        "id": "yqHYo3Wxkt-i",
        "outputId": "451894a8-fe91-4615-d50a-b433c759ae82"
      },
      "execution_count": 3,
      "outputs": [
        {
          "output_type": "stream",
          "name": "stdout",
          "text": [
            "hello World\n"
          ]
        }
      ]
    },
    {
      "cell_type": "markdown",
      "source": [
        "Q2. Write a Python program that displays your name and age?"
      ],
      "metadata": {
        "id": "whtKA706k1ek"
      }
    },
    {
      "cell_type": "code",
      "source": [
        "name = input(\"Enter your name: \")\n",
        "age = int(input(\"Enter your age: \"))\n",
        "print(\"My name is \", name + \" and I am \"+str(age) + \" years old.\")"
      ],
      "metadata": {
        "colab": {
          "base_uri": "https://localhost:8080/"
        },
        "id": "T8iBbWEHk5UY",
        "outputId": "3d8d4788-c124-4466-baef-33dd4bf11539"
      },
      "execution_count": 7,
      "outputs": [
        {
          "output_type": "stream",
          "name": "stdout",
          "text": [
            "Enter your name: Shubham Nayak\n",
            "Enter your age: 26\n",
            "My name is  Shubham Nayak and I am 26 years old.\n"
          ]
        }
      ]
    },
    {
      "cell_type": "markdown",
      "source": [
        "Q3. Write code to print all the pre-defined keywords in Python using the keyword library."
      ],
      "metadata": {
        "id": "4MXx0wAWmSFw"
      }
    },
    {
      "cell_type": "code",
      "source": [
        "import keyword"
      ],
      "metadata": {
        "id": "s2EcRh0smZEK"
      },
      "execution_count": 20,
      "outputs": []
    },
    {
      "cell_type": "code",
      "source": [
        "keyword = keyword.kwlist\n",
        "for kw in keyword:\n",
        "  print(kw)\n",
        "print(\"\\nTotal number of keywords: \",len(keyword))"
      ],
      "metadata": {
        "colab": {
          "base_uri": "https://localhost:8080/"
        },
        "id": "iWq-AZqhqZFV",
        "outputId": "6be818b1-0908-4b2e-a804-bccac611450f"
      },
      "execution_count": 21,
      "outputs": [
        {
          "output_type": "stream",
          "name": "stdout",
          "text": [
            "False\n",
            "None\n",
            "True\n",
            "and\n",
            "as\n",
            "assert\n",
            "async\n",
            "await\n",
            "break\n",
            "class\n",
            "continue\n",
            "def\n",
            "del\n",
            "elif\n",
            "else\n",
            "except\n",
            "finally\n",
            "for\n",
            "from\n",
            "global\n",
            "if\n",
            "import\n",
            "in\n",
            "is\n",
            "lambda\n",
            "nonlocal\n",
            "not\n",
            "or\n",
            "pass\n",
            "raise\n",
            "return\n",
            "try\n",
            "while\n",
            "with\n",
            "yield\n",
            "\n",
            "Total number of keywords:  35\n"
          ]
        }
      ]
    },
    {
      "cell_type": "markdown",
      "source": [
        "Q4.Write a program that checks if a given word is a Python keyword."
      ],
      "metadata": {
        "id": "cDWNge98rb_P"
      }
    },
    {
      "cell_type": "code",
      "source": [
        "import keyword"
      ],
      "metadata": {
        "id": "xvfvBB7GrjWe"
      },
      "execution_count": 30,
      "outputs": []
    },
    {
      "cell_type": "code",
      "source": [
        "keyword = keyword.kwlist\n",
        "word = input(\"Enter a word: \")\n",
        "if word in keyword:\n",
        "  print(word,\"is a python keyword\")\n",
        "else:\n",
        "  print(word,\"is not a python keyword\")"
      ],
      "metadata": {
        "colab": {
          "base_uri": "https://localhost:8080/"
        },
        "id": "H4MBfaDHtK1I",
        "outputId": "89b3ca8e-fb48-4a57-aa68-037479215bba"
      },
      "execution_count": 31,
      "outputs": [
        {
          "output_type": "stream",
          "name": "stdout",
          "text": [
            "Enter a word: in\n",
            "in is a python keyword\n"
          ]
        }
      ]
    },
    {
      "cell_type": "markdown",
      "source": [
        "Q5.Create a list and tuple in Python, and demonstrate how attempting to change an element works differently\n",
        "for each."
      ],
      "metadata": {
        "id": "F_JPsVMMt_Fe"
      }
    },
    {
      "cell_type": "code",
      "source": [
        "my_list = [1,2,3,4,5]\n",
        "my_Tuple = (1,2,3,4,5)\n",
        "\n",
        "print(\"Original list: \", my_list)\n",
        "my_list[0] = 10\n",
        "print(\"Modified list: \", my_list)\n",
        "\n",
        "print(\"\\nOriginal tuple: \", my_Tuple)\n",
        "\n",
        "try:\n",
        "    my_Tuple[0] = 99\n",
        "except TypeError as e:\n",
        "    print(\"Error when modifying tuple:\", e)"
      ],
      "metadata": {
        "colab": {
          "base_uri": "https://localhost:8080/"
        },
        "id": "25K0-0Q9uD8k",
        "outputId": "0849fccd-6b4f-4b45-8fa1-6daa5129e60d"
      },
      "execution_count": 38,
      "outputs": [
        {
          "output_type": "stream",
          "name": "stdout",
          "text": [
            "Original list:  [1, 2, 3, 4, 5]\n",
            "Modified list:  [10, 2, 3, 4, 5]\n",
            "\n",
            "Original tuple:  (1, 2, 3, 4, 5)\n",
            "Error when modifying tuple: 'tuple' object does not support item assignment\n"
          ]
        }
      ]
    },
    {
      "cell_type": "markdown",
      "source": [
        "Q6 & Q7. Write a function to demonstrate the behavior of mutable and immutable arguments."
      ],
      "metadata": {
        "id": "EmBH-iKEyGiN"
      }
    },
    {
      "cell_type": "markdown",
      "source": [
        "Q8. Write a program to demonstrate the use of logical operators."
      ],
      "metadata": {
        "id": "klzUrFhVzFei"
      }
    },
    {
      "cell_type": "code",
      "source": [
        "a = 5\n",
        "b = 10\n",
        "c = 15\n",
        "if(b>a and a<b):    #if both the condition is true then the block of code is executed\n",
        "    print(a*b)\n",
        "elif(a>b or b<c):   #if any one condition is true then the block of code is executed\n",
        "    print(a+b)\n",
        "else:\n",
        "    print(c-b)      #if none of the above condition is true then else code part is executed"
      ],
      "metadata": {
        "colab": {
          "base_uri": "https://localhost:8080/"
        },
        "id": "uW2gdSTdzN0_",
        "outputId": "25135552-8f1f-4ec9-d44a-9e193b52ac78"
      },
      "execution_count": 41,
      "outputs": [
        {
          "output_type": "stream",
          "name": "stdout",
          "text": [
            "50\n"
          ]
        }
      ]
    },
    {
      "cell_type": "markdown",
      "source": [
        "Q9.Write a Python program to convert user input from string to integer, float, and boolean types."
      ],
      "metadata": {
        "id": "81YQBn7b1mkF"
      }
    },
    {
      "cell_type": "code",
      "source": [
        "a = int(input(\"Enter an integer: \"))\n",
        "b = float(input(\"Enter a float: \"))\n",
        "c = input(\"Enter a boolean: \")"
      ],
      "metadata": {
        "colab": {
          "base_uri": "https://localhost:8080/"
        },
        "id": "FVJg5ofn1rzP",
        "outputId": "48a5d1e2-3327-464a-a132-1debd5547601"
      },
      "execution_count": 47,
      "outputs": [
        {
          "name": "stdout",
          "output_type": "stream",
          "text": [
            "Enter an integer: 26\n",
            "Enter a float: 26.54\n",
            "Enter a boolean: My name is Shubham Nayak\n"
          ]
        }
      ]
    },
    {
      "cell_type": "markdown",
      "source": [
        "Q10. Write code to demonstrate type casting with list elements."
      ],
      "metadata": {
        "id": "3CUh8Ytf67HN"
      }
    },
    {
      "cell_type": "code",
      "source": [
        "data_list = [\"10\", \"3.14\", \"True\", \"hello\", \"42\"]\n",
        "\n",
        "int_list = []\n",
        "float_list = []\n",
        "bool_list = []\n",
        "\n",
        "for item in data_list:\n",
        "    if item.isdigit():\n",
        "        int_list.append(int(item))\n",
        "    if item.isdigit():\n",
        "        float_list.append(float(item))\n",
        "    if item.isdigit():\n",
        "        bool_list.append(bool(item))\n",
        "print(\"Integer List:\", int_list)\n",
        "print(\"Float List:\", float_list)\n",
        "print(\"Boolean List:\", bool_list)"
      ],
      "metadata": {
        "colab": {
          "base_uri": "https://localhost:8080/"
        },
        "id": "4YNE-lAS6_bR",
        "outputId": "bbad26ac-fd2f-4cb5-a129-49d4f6dbc395"
      },
      "execution_count": 61,
      "outputs": [
        {
          "output_type": "stream",
          "name": "stdout",
          "text": [
            "Integer List: [10, 42]\n",
            "Float List: [10.0, 42.0]\n",
            "Boolean List: [True, True]\n"
          ]
        }
      ]
    },
    {
      "cell_type": "markdown",
      "source": [
        "Q11. Write a program that checks if a number is positive, negative, or zero."
      ],
      "metadata": {
        "id": "fvFjdt-zBZuV"
      }
    },
    {
      "cell_type": "code",
      "source": [
        "number = float(input(\"Enter a number: \"))\n",
        "\n",
        "\n",
        "if number > 0:\n",
        "    print(\"The number is positive.\")\n",
        "elif number < 0:\n",
        "    print(\"The number is negative.\")\n",
        "else:\n",
        "    print(\"The number is zero.\")"
      ],
      "metadata": {
        "colab": {
          "base_uri": "https://localhost:8080/"
        },
        "id": "0d4VZGQoBcbs",
        "outputId": "f009a150-a4e9-415e-9eb9-215c06ec764f"
      },
      "execution_count": 103,
      "outputs": [
        {
          "output_type": "stream",
          "name": "stdout",
          "text": [
            "Enter a number: .2\n",
            "The number is positive.\n"
          ]
        }
      ]
    },
    {
      "cell_type": "markdown",
      "source": [
        "Q12.Write a for loop to print numbers from 1 to 10."
      ],
      "metadata": {
        "id": "Buypr1qxBgim"
      }
    },
    {
      "cell_type": "code",
      "source": [
        "for i in range(1,11):\n",
        "    print(i)"
      ],
      "metadata": {
        "colab": {
          "base_uri": "https://localhost:8080/"
        },
        "id": "0i0C9BtABlqm",
        "outputId": "2eff31a4-b515-46d6-cd5e-8006a7e92f35"
      },
      "execution_count": 70,
      "outputs": [
        {
          "output_type": "stream",
          "name": "stdout",
          "text": [
            "1\n",
            "2\n",
            "3\n",
            "4\n",
            "5\n",
            "6\n",
            "7\n",
            "8\n",
            "9\n",
            "10\n"
          ]
        }
      ]
    },
    {
      "cell_type": "markdown",
      "source": [
        "Q13.Write a Python program to find the sum of all even numbers between 1 and 50"
      ],
      "metadata": {
        "id": "0pYPhdUjCiEC"
      }
    },
    {
      "cell_type": "code",
      "source": [
        "sum = 0\n",
        "for i in range(1,51):\n",
        "    if i%2==0:\n",
        "        #print(i,end=\" \")\n",
        "        sum = sum + i\n",
        "print(sum)"
      ],
      "metadata": {
        "colab": {
          "base_uri": "https://localhost:8080/"
        },
        "id": "CD4bCyDpCm-j",
        "outputId": "6effa952-d8a7-4286-ef25-17d045a4c1fb"
      },
      "execution_count": 88,
      "outputs": [
        {
          "output_type": "stream",
          "name": "stdout",
          "text": [
            "650\n"
          ]
        }
      ]
    },
    {
      "cell_type": "markdown",
      "source": [
        "Q14.Write a program to reverse a string using a while loop."
      ],
      "metadata": {
        "id": "IQxTSFXPF0pS"
      }
    },
    {
      "cell_type": "code",
      "source": [
        "_string = input(\"Enter a string: \")\n",
        "reverse_string = \"\"\n",
        "length = len(_string)\n",
        "while length > 0:\n",
        "        reverse_string = reverse_string + _string[length-1]\n",
        "        length = length - 1\n",
        "print(reverse_string)\n"
      ],
      "metadata": {
        "colab": {
          "base_uri": "https://localhost:8080/"
        },
        "id": "KUFzViKWF4N5",
        "outputId": "a8f5a043-39ae-4ef0-a4bf-4b993097c190"
      },
      "execution_count": 93,
      "outputs": [
        {
          "output_type": "stream",
          "name": "stdout",
          "text": [
            "Enter a string: shubham\n",
            "mahbuhs\n"
          ]
        }
      ]
    },
    {
      "cell_type": "markdown",
      "source": [
        "Q15.Write a Python program to calculate the factorial of a number provided by the user using a while loop."
      ],
      "metadata": {
        "id": "_j-TDc75INT6"
      }
    },
    {
      "cell_type": "code",
      "source": [
        "a  = int(input(\"Enter a number: \"))\n",
        "b = 1\n",
        "\n",
        "while a>0:\n",
        "    b = b * a\n",
        "    a = a -1\n",
        "print(b)"
      ],
      "metadata": {
        "colab": {
          "base_uri": "https://localhost:8080/"
        },
        "id": "_o_WU__YIUcD",
        "outputId": "cbeaf384-6641-483d-b09b-ad4b417fabf7"
      },
      "execution_count": 98,
      "outputs": [
        {
          "output_type": "stream",
          "name": "stdout",
          "text": [
            "Enter a number: 9\n",
            "362880\n"
          ]
        }
      ]
    }
  ]
}